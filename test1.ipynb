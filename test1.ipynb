{
 "cells": [
  {
   "cell_type": "code",
   "execution_count": 3,
   "source": [
    "#Importando librerias:\r\n",
    "import pandas as pd\r\n",
    "\r\n",
    "#Creando funcion, para automatizar proceso\r\n",
    "def unixToDateTime(dt,column1):\r\n",
    "    #Conversion unixtimestamp a dataTime\r\n",
    "    dt[column1] = pd.to_datetime(dt[column1], unit='s')\r\n",
    "\r\n",
    "    #Generando archivo:\r\n",
    "    dt.to_csv('cData/TestDesarrolladorBI.csv', index=False)\r\n",
    "    return\r\n",
    "#Generando data a partir de la fuente:\r\n",
    "dt1 = pd.read_excel('rData/Test Desarrollador BI.xlsx', index_col=None)  \r\n",
    "\r\n",
    "#Usando funcion creada, tiene dos parametros, uno es la fuente de datos y el segundo la columna que deseamos convertir:\r\n",
    "unixToDateTime(dt1,'Fecha de Emisión (Unix Timestamp)')"
   ],
   "outputs": [],
   "metadata": {}
  }
 ],
 "metadata": {
  "orig_nbformat": 4,
  "language_info": {
   "name": "python",
   "version": "3.9.6",
   "mimetype": "text/x-python",
   "codemirror_mode": {
    "name": "ipython",
    "version": 3
   },
   "pygments_lexer": "ipython3",
   "nbconvert_exporter": "python",
   "file_extension": ".py"
  },
  "kernelspec": {
   "name": "python3",
   "display_name": "Python 3.9.6 64-bit"
  },
  "interpreter": {
   "hash": "d05204e0b8c22c1dfa55d650d8ad7aba6955b8fdcd373d87a78c90fab842e5ca"
  }
 },
 "nbformat": 4,
 "nbformat_minor": 2
}